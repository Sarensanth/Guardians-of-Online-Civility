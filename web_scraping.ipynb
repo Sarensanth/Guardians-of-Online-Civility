{
  "nbformat": 4,
  "nbformat_minor": 0,
  "metadata": {
    "colab": {
      "provenance": []
    },
    "kernelspec": {
      "name": "python3",
      "display_name": "Python 3"
    },
    "language_info": {
      "name": "python"
    }
  },
  "cells": [
    {
      "cell_type": "code",
      "execution_count": null,
      "metadata": {
        "colab": {
          "base_uri": "https://localhost:8080/"
        },
        "id": "fR2Z7XPafr0g",
        "outputId": "27b87eb5-6c8e-420a-e519-388b49f10309"
      },
      "outputs": [
        {
          "output_type": "stream",
          "name": "stdout",
          "text": [
            "Requirement already satisfied: beautifulsoup4 in /usr/local/lib/python3.10/dist-packages (4.11.2)\n",
            "Requirement already satisfied: soupsieve>1.2 in /usr/local/lib/python3.10/dist-packages (from beautifulsoup4) (2.5)\n"
          ]
        }
      ],
      "source": [
        "!pip install beautifulsoup4"
      ]
    },
    {
      "cell_type": "code",
      "source": [
        "!pip install requests"
      ],
      "metadata": {
        "colab": {
          "base_uri": "https://localhost:8080/"
        },
        "id": "0S4P5Fjaf7XH",
        "outputId": "4d5dc8ed-829d-4f74-9b5a-cae3f16aeee9"
      },
      "execution_count": null,
      "outputs": [
        {
          "output_type": "stream",
          "name": "stdout",
          "text": [
            "Requirement already satisfied: requests in /usr/local/lib/python3.10/dist-packages (2.31.0)\n",
            "Requirement already satisfied: charset-normalizer<4,>=2 in /usr/local/lib/python3.10/dist-packages (from requests) (3.3.0)\n",
            "Requirement already satisfied: idna<4,>=2.5 in /usr/local/lib/python3.10/dist-packages (from requests) (3.4)\n",
            "Requirement already satisfied: urllib3<3,>=1.21.1 in /usr/local/lib/python3.10/dist-packages (from requests) (2.0.6)\n",
            "Requirement already satisfied: certifi>=2017.4.17 in /usr/local/lib/python3.10/dist-packages (from requests) (2023.7.22)\n"
          ]
        }
      ]
    },
    {
      "cell_type": "code",
      "source": [
        "import requests\n",
        "from bs4 import BeautifulSoup\n",
        "import pandas as pd\n",
        "url = \"https://www.google.com/\"\n",
        "response = requests.get(url)\n",
        "if response.status_code == 200:\n",
        "    soup = BeautifulSoup(response.text, 'html.parser')\n",
        "    visible_text = \" \".join(soup.stripped_strings)\n",
        "    words = visible_text.split()\n",
        "    df = pd.DataFrame(words, columns=['Words'])\n",
        "    print(df)\n",
        "else:\n",
        "    print(f\"Failed to retrieve the page. Status code: {response.status_code}\")\n"
      ],
      "metadata": {
        "colab": {
          "base_uri": "https://localhost:8080/"
        },
        "id": "EgBlD2Wof_aE",
        "outputId": "5a51cd1a-7797-486e-c344-aed3c18e43a1"
      },
      "execution_count": null,
      "outputs": [
        {
          "output_type": "stream",
          "name": "stdout",
          "text": [
            "          Words\n",
            "0        Google\n",
            "1        Search\n",
            "2        Images\n",
            "3          Maps\n",
            "4          Play\n",
            "5       YouTube\n",
            "6          News\n",
            "7         Gmail\n",
            "8         Drive\n",
            "9          More\n",
            "10            »\n",
            "11          Web\n",
            "12      History\n",
            "13            |\n",
            "14     Settings\n",
            "15            |\n",
            "16         Sign\n",
            "17           in\n",
            "18     Advanced\n",
            "19       search\n",
            "20  Celebrating\n",
            "21       Latino\n",
            "22     founders\n",
            "23   innovating\n",
            "24         with\n",
            "25         help\n",
            "26         from\n",
            "27       Google\n",
            "28           AI\n",
            "29  Advertising\n",
            "30     Business\n",
            "31    Solutions\n",
            "32        About\n",
            "33       Google\n",
            "34            ©\n",
            "35         2023\n",
            "36            -\n",
            "37      Privacy\n",
            "38            -\n",
            "39        Terms\n"
          ]
        }
      ]
    },
    {
      "cell_type": "code",
      "source": [],
      "metadata": {
        "id": "vqDIxBzEidYG"
      },
      "execution_count": null,
      "outputs": []
    }
  ]
}